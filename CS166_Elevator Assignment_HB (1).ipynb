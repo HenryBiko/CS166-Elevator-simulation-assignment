{
 "cells": [
  {
   "cell_type": "code",
   "execution_count": 1,
   "metadata": {},
   "outputs": [],
   "source": [
    "import random\n",
    "import collections\n",
    "import bisect\n",
    "import matplotlib.pyplot as plt\n",
    "import copy\n",
    "import seaborn as sns"
   ]
  },
  {
   "cell_type": "code",
   "execution_count": 2,
   "metadata": {},
   "outputs": [],
   "source": [
    "#Generate class elevator; It contains the three algorithms we will compare to see which one yields the best results \n",
    "\n",
    "class Elevator:\n",
    "    def __init__(self, capacity):\n",
    "        self.cap = capacity\n",
    "        self.floor = 0\n",
    "        self.targets = []\n",
    "        \n",
    "    def maximum(self, pas):\n",
    "        # initiation\n",
    "        self.floor = 0\n",
    "        count = 0\n",
    "        # sort\n",
    "        for i in pas:\n",
    "            pas[i].sort()\n",
    "        \n",
    "        while pas:\n",
    "            \n",
    "            destination = max(list(pas.keys()), key=lambda x: len(pas[x]))\n",
    "            count += abs(destination - self.floor)\n",
    "            self.floor = destination\n",
    "            \n",
    "            while pas[destination] and len(self.targets) < self.cap:\n",
    "                self.targets.append(pas[destination].pop())\n",
    "                \n",
    "            if not pas[destination]:\n",
    "                pas.pop(destination, None)\n",
    "            \n",
    "            self.targets.sort(key = lambda x: abs(x - self.floor))\n",
    "            for i in self.targets:\n",
    "                count += abs(self.floor - i)\n",
    "                self.floor = i\n",
    "            \n",
    "            self.targets = []\n",
    "        \n",
    "        return count\n",
    "    \n",
    "    \n",
    "    def greedy(self, pas):\n",
    "        \n",
    "        #initialization\n",
    "        self.floor = 0\n",
    "        direction = 1\n",
    "        count = 0\n",
    "        \n",
    "        while pas:\n",
    "            \n",
    "            '''\n",
    "            print(\"Elevator is at %s floor. Direction: %s\" % (self.floor, direction))\n",
    "            print(\"Current passengers' destination %s\" % self.targets)\n",
    "            '''\n",
    "            \n",
    "            # remove passengers that have reached their target floor\n",
    "            if self.floor in self.targets:\n",
    "                self.targets = list(filter(lambda x: x != self.floor, self.targets))\n",
    "            \n",
    "            # add passengers on the same direction\n",
    "            if direction == 1 and pas[self.floor]:\n",
    "                while len(self.targets) < self.cap and pas[self.floor] and max(pas[self.floor]) > self.floor:\n",
    "                    ind = pas[self.floor].index(max(pas[self.floor]))\n",
    "                    self.targets.append(pas[self.floor].pop(ind))\n",
    "            elif direction == -1 and pas[self.floor]:\n",
    "                while len(self.targets) < self.cap and pas[self.floor] and min(pas[self.floor]) < self.floor:\n",
    "                    ind = pas[self.floor].index(min(pas[self.floor]))\n",
    "                    self.targets.append(pas[self.floor].pop(ind))\n",
    "            \n",
    "            #remove floors that have no more passengers\n",
    "            if not pas[self.floor]:\n",
    "                pas.pop(self.floor, None)\n",
    "            \n",
    "            if len(pas.keys()) > 0 and (self.targets or (direction == 1 and self.floor < max(pas.keys())) or (direction == -1 and self.floor > min(pas.keys()))):\n",
    "                self.floor += direction\n",
    "                count += 1\n",
    "            else:\n",
    "                direction = -direction\n",
    "        \n",
    "        return count\n",
    "    \n",
    "    def closest_floor(self, floor, other_floors):\n",
    "        return sorted(other_floors, key = lambda x: abs(floor - x))[0]\n",
    "    \n",
    "    def random(self,pas):\n",
    "        #initialization\n",
    "        self.floor = 0\n",
    "        count = 0\n",
    "        loaded = 0\n",
    "        \n",
    "        #Run loop till no passengers left on all floor\n",
    "        while len(list(pas.keys())) != 0:\n",
    "            next_floor = self.closest_floor(self.floor, list(pas.keys()))\n",
    "            count += abs(self.floor - next_floor)\n",
    "\n",
    "            while loaded < self.cap and len(pas.get(next_floor)) != 0:\n",
    "                loaded += 1                                            \n",
    "                self.targets.append(pas.get(next_floor).pop(0))\n",
    "                \n",
    "            #Check if floor is empty, if it is then delete it\n",
    "            if len(pas.get(next_floor)) == 0:\n",
    "                del pas[next_floor]\n",
    "\n",
    "            #choose random floor to go to   \n",
    "            random_floor = random.choice(self.targets)\n",
    "            count += abs(next_floor - random_floor)\n",
    "            self.floor = random_floor\n",
    "            for i in self.targets:\n",
    "                if i == random_floor:\n",
    "                    self.targets.remove(i)\n",
    "                    loaded -= 1\n",
    "\n",
    "        return count"
   ]
  },
  {
   "cell_type": "code",
   "execution_count": 3,
   "metadata": {},
   "outputs": [],
   "source": [
    "\n",
    "#Generate class building; It generates all the passengers, their initial position and their desired goal.\n",
    "\n",
    "class Building:\n",
    "    def __init__(self, floor, passengers):\n",
    "        self.floor = floor\n",
    "        self.passengers = collections.defaultdict(list)\n",
    "        self.generatePassenger(passengers)\n",
    "    \n",
    "    def generatePassenger(self, num):\n",
    "        for _ in range(num):\n",
    "            f = random.randint(0, self.floor - 1)\n",
    "            self.passengers[f].append(self.generateDes(f))\n",
    "    \n",
    "    #generate destination\n",
    "    def generateDes(self, start):\n",
    "        temp = start\n",
    "        while temp == start:\n",
    "            temp = random.randint(0, self.floor - 1)\n",
    "        d = 1 if temp > start else -1\n",
    "        return temp\n",
    "    \n",
    "    #generate biased destination. This is to model more realistic scenarios where people\n",
    "    #are more likely to go to floors closer to the ground floor/lobby\n",
    "    def generateBiasedDes(self, start):\n",
    "        if start != 0 and random.random() < 0.5:\n",
    "            return 0\n",
    "        else:\n",
    "            temp = start\n",
    "            while temp == start:\n",
    "                temp = random.randint(0, self.floor - 1)\n",
    "            return temp\n",
    "    \n",
    "    def generateBiasedPassenger(self, num):\n",
    "        for _ in range(num):\n",
    "            if random.random() < 0.5:\n",
    "                self.passengers[0].append(self.generateDes(0))\n",
    "            else:\n",
    "                f = random.randint(0, self.floor - 1)\n",
    "                self.passengers[f].append(self.generateBiasedDes(f))"
   ]
  },
  {
   "cell_type": "markdown",
   "metadata": {},
   "source": [
    "\n",
    "Testing"
   ]
  },
  {
   "cell_type": "code",
   "execution_count": 4,
   "metadata": {},
   "outputs": [],
   "source": [
    "\n",
    "max_s = []\n",
    "greedy_s = []\n",
    "random_s = []\n",
    "\n",
    "#Generate passengers and send them to their destination using multiple algorithms\n",
    "for _ in range(1000):\n",
    "    test = Building(20, 50).passengers\n",
    "    ele = Elevator(2)\n",
    "    max_s.append(ele.maximum(copy.deepcopy(test)))\n",
    "    random_s.append(ele.random(copy.deepcopy(test)))\n",
    "    greedy_s.append(ele.greedy(test))"
   ]
  },
  {
   "cell_type": "code",
   "execution_count": 5,
   "metadata": {},
   "outputs": [
    {
     "data": {
      "text/plain": [
       "<matplotlib.legend.Legend at 0x1a1c633eb8>"
      ]
     },
     "execution_count": 5,
     "metadata": {},
     "output_type": "execute_result"
    },
    {
     "data": {
      "image/png": "[encoded data removed]",
      "text/plain": [
       "<Figure size 432x288 with 1 Axes>"
      ]
     },
     "metadata": {
      "needs_background": "light"
     },
     "output_type": "display_data"
    }
   ],
   "source": [
    "\n",
    "#Graph comparing the three algorithms\n",
    "sns.distplot(greedy_s, label = \"greedy\")\n",
    "sns.distplot(random_s, label = \"random\")\n",
    "sns.distplot(max_s, label = \"maximum\")\n",
    "plt.title('Comparing duration using various algorithms')\n",
    "plt.xlabel('Number of steps taken to complete the task')\n",
    "plt.ylabel('Frequency')\n",
    "plt.legend()"
   ]
  },
  {
   "cell_type": "code",
   "execution_count": 7,
   "metadata": {},
   "outputs": [],
   "source": [
    "\n",
    "elevator_x = range(1, 10)\n",
    "elevator_y = []\n",
    "\n",
    "for cap in elevator_x:\n",
    "    res = 0\n",
    "    for _ in range(1000):\n",
    "        test = Building(20, 50).passengers\n",
    "        ele = Elevator(cap)\n",
    "        res += ele.greedy(test)\n",
    "    elevator_y.append(res / 1000)\n",
    "    "
   ]
  },
  {
   "cell_type": "code",
   "execution_count": 8,
   "metadata": {},
   "outputs": [
    {
     "data": {
      "image/png": "[encoded data removed]",
      "text/plain": [
       "<Figure size 432x288 with 1 Axes>"
      ]
     },
     "metadata": {
      "needs_background": "light"
     },
     "output_type": "display_data"
    }
   ],
   "source": [
    "#Graph showing the importance of a good elevator capacity\n",
    "plt.plot(elevator_x, elevator_y)\n",
    "plt.title('Time as a function of elevator capacity')\n",
    "plt.xlabel(\"Elevator capacity\")\n",
    "plt.ylabel(\"Number of floors traveled\")\n",
    "plt.show()"
   ]
  },
  {
   "cell_type": "markdown",
   "metadata": {},
   "source": [
    "# Extending to Multiple Elevators"
   ]
  },
  {
   "cell_type": "code",
   "execution_count": 9,
   "metadata": {},
   "outputs": [],
   "source": [
    "class MElevator:\n",
    "    def __init__(self, capacity):\n",
    "        self.cap = capacity\n",
    "        self.floor = 0\n",
    "        self.direction = 1\n",
    "        self.targets = []\n",
    "        \n",
    "    def load(self, tasks):\n",
    "        if not tasks: return\n",
    "#         print(\"Elevator at %s floor. Targets: %s\" % (self.floor, self.targets))\n",
    "        self.targets = [i for i in self.targets if i != self.floor]\n",
    "        \n",
    "        if self.direction == 1:\n",
    "            while len(self.targets) < self.cap and tasks[self.floor] and max(tasks[self.floor]) > self.floor:\n",
    "                self.targets.append(tasks[self.floor].pop(tasks[self.floor].index(max(tasks[self.floor]))))\n",
    "        else:\n",
    "            while len(self.targets) < self.cap and tasks[self.floor] and min(tasks[self.floor]) < self.floor:\n",
    "                self.targets.append(tasks[self.floor].pop(tasks[self.floor].index(min(tasks[self.floor]))))\n",
    "        \n",
    "        if not tasks[self.floor]:\n",
    "            tasks.pop(self.floor, None)\n",
    "            \n",
    "        if not tasks: return\n",
    "        \n",
    "        if self.targets or (self.direction == 1 and max(tasks) > self.floor) or (self.direction == -1 and min(tasks) < self.floor):\n",
    "            self.floor += self.direction\n",
    "        else:\n",
    "            self.direction = -self.direction"
   ]
  },
  {
   "cell_type": "code",
   "execution_count": 10,
   "metadata": {},
   "outputs": [
    {
     "data": {
      "text/plain": [
       "131"
      ]
     },
     "execution_count": 10,
     "metadata": {},
     "output_type": "execute_result"
    }
   ],
   "source": [
    "\n",
    "test = Building(20, 50).passengers\n",
    "ele = [MElevator(2) for _ in range(2)]\n",
    "count = 0\n",
    "\n",
    "while test:\n",
    "    for i in ele:\n",
    "        i.load(test)\n",
    "    count += 1\n",
    "\n",
    "count"
   ]
  },
  {
   "cell_type": "code",
   "execution_count": 11,
   "metadata": {},
   "outputs": [],
   "source": [
    "class SpecElevator:\n",
    "    def __init__(self, capacity, floor_range):\n",
    "        self.cap = capacity\n",
    "        self.floor = floor_range[0]\n",
    "        self.floor_range = floor_range\n",
    "        self.direction = 1\n",
    "        self.targets = []\n",
    "        \n",
    "    def load(self, tasks):\n",
    "        if not tasks: return\n",
    "        #print(\"Elevator at %s floor. Targets: %s\" % (self.floor, self.targets))\n",
    "        temp = [i for i in self.targets if i[0] == self.floor]\n",
    "        self.targets = [i for i in self.targets if i[0] != self.floor]\n",
    "        \n",
    "        for m in temp:\n",
    "            if m[0] != m[1]:\n",
    "                tasks[m[0]].append(m[1])\n",
    "                \n",
    "        if (self.direction == 1 and self.floor == self.floor_range[1]) or (self.direction == -1 and self.floor == self.floor_range[0]):\n",
    "            self.direction = -self.direction\n",
    "            return\n",
    "        \n",
    "        if self.direction == 1:\n",
    "            available = [i for i in range(len(tasks[self.floor])) if self.floor < tasks[self.floor][i]]\n",
    "            while available and len(self.targets) < self.cap:\n",
    "                temp = tasks[self.floor].pop(available.pop())\n",
    "                if temp <= self.floor_range[1]:\n",
    "                    self.targets.append((temp, temp))\n",
    "                else:\n",
    "                    self.targets.append((self.floor_range[1], temp))\n",
    "        else:\n",
    "            available = [i for i in range(len(tasks[self.floor])) if tasks[self.floor][i] < self.floor]\n",
    "            while available and len(self.targets) < self.cap:\n",
    "                temp = tasks[self.floor].pop(available.pop())\n",
    "                if temp >= self.floor_range[0]:\n",
    "                    self.targets.append((temp, temp))\n",
    "                else:\n",
    "                    self.targets.append((self.floor_range[0], temp))\n",
    "        \n",
    "        if not tasks[self.floor]:\n",
    "            tasks.pop(self.floor, None)\n",
    "            \n",
    "        if not tasks: return\n",
    "        \n",
    "        rest = False\n",
    "        if not self.targets:\n",
    "            if self.direction == 1:\n",
    "                for k in tasks:\n",
    "                    if self.floor < k < self.floor_range[1]:\n",
    "                        rest = True\n",
    "                        break\n",
    "                    elif k == self.floor_range[1]:\n",
    "                        for m in tasks[k]:\n",
    "                            if m < k:\n",
    "                                rest = True\n",
    "                                break\n",
    "            else:\n",
    "                for k in tasks:\n",
    "                    if self.floor_range[0] < k < self.floor:\n",
    "                        rest = True\n",
    "                        break\n",
    "                    elif k == self.floor_range[0]:\n",
    "                        for m in tasks[k]:\n",
    "                            if m > k:\n",
    "                                rest = True\n",
    "                                break   \n",
    "        \n",
    "        if self.targets or rest:\n",
    "            self.floor += self.direction\n",
    "        else:\n",
    "            self.direction = -self.direction"
   ]
  },
  {
   "cell_type": "code",
   "execution_count": 12,
   "metadata": {},
   "outputs": [
    {
     "data": {
      "text/plain": [
       "148"
      ]
     },
     "execution_count": 12,
     "metadata": {},
     "output_type": "execute_result"
    }
   ],
   "source": [
    "test = Building(20, 50).passengers\n",
    "ele = [SpecElevator(2, (0, 10)), SpecElevator(2, (10, 20))]\n",
    "count = 0\n",
    "\n",
    "while test:\n",
    "    for i in ele:\n",
    "        i.load(test)\n",
    "    count += 1\n",
    "\n",
    "count"
   ]
  },
  {
   "cell_type": "code",
   "execution_count": 13,
   "metadata": {},
   "outputs": [],
   "source": [
    "all_ele = []\n",
    "divided_ele = []\n",
    "\n",
    "def allEle(test):\n",
    "    ele = [MElevator(2) for _ in range(2)]\n",
    "    count = 0\n",
    "    \n",
    "    while test:\n",
    "        for i in ele:\n",
    "            i.load(test)\n",
    "        count += 1\n",
    "    \n",
    "    return count\n",
    "\n",
    "def dividedEle(test):\n",
    "    ele = [SpecElevator(2, (0, 10)), SpecElevator(2, (10, 20))]\n",
    "    count = 0\n",
    "    \n",
    "    while test:\n",
    "        for i in ele:\n",
    "            i.load(test)\n",
    "        count += 1\n",
    "    \n",
    "    return count\n",
    "\n",
    "for _ in range(1000):\n",
    "    test = Building(20, 50).passengers\n",
    "    all_ele.append(allEle(copy.deepcopy(test)))\n",
    "    divided_ele.append(dividedEle(test))"
   ]
  },
  {
   "cell_type": "code",
   "execution_count": 14,
   "metadata": {},
   "outputs": [
    {
     "data": {
      "text/plain": [
       "<matplotlib.legend.Legend at 0x1a1c99b2b0>"
      ]
     },
     "execution_count": 14,
     "metadata": {},
     "output_type": "execute_result"
    },
    {
     "data": {
      "image/png": "[encoded data removed]",
      "text/plain": [
       "<Figure size 432x288 with 1 Axes>"
      ]
     },
     "metadata": {
      "needs_background": "light"
     },
     "output_type": "display_data"
    }
   ],
   "source": [
    "sns.distplot(all_ele, label = \"all\")\n",
    "sns.distplot(divided_ele, label = \"divided\")\n",
    "plt.title('Time needed to take all passengers to their destination')\n",
    "plt.xlabel('Number of steps taken to complete the task')\n",
    "plt.ylabel('Frequency')\n",
    "plt.legend()"
   ]
  },
  {
   "cell_type": "code",
   "execution_count": 15,
   "metadata": {},
   "outputs": [],
   "source": [
    "elevator_x = range(1, 10)\n",
    "elevator_y = []\n",
    "\n",
    "for num in elevator_x:\n",
    "    count = 0\n",
    "    for _ in range(500):\n",
    "        test = Building(20, 50).passengers\n",
    "        ele = [MElevator(2) for _ in range(num)]    \n",
    "        while test:\n",
    "            for i in ele:\n",
    "                i.load(test)\n",
    "            count += 1\n",
    "    elevator_y.append(count / 1000)"
   ]
  },
  {
   "cell_type": "code",
   "execution_count": 16,
   "metadata": {},
   "outputs": [
    {
     "data": {
      "image/png": "[encoded data removed]",
      "text/plain": [
       "<Figure size 432x288 with 1 Axes>"
      ]
     },
     "metadata": {
      "needs_background": "light"
     },
     "output_type": "display_data"
    }
   ],
   "source": [
    "\n",
    "plt.plot(elevator_x, elevator_y)\n",
    "plt.title('Time as a function of the number of elevators')\n",
    "plt.xlabel(\"Number of elevators\")\n",
    "plt.ylabel(\"Number of floors traveled\")\n",
    "plt.show()"
   ]
  },
  {
   "cell_type": "markdown",
   "metadata": {},
   "source": [
    "# Shift Distributions"
   ]
  },
  {
   "cell_type": "code",
   "execution_count": 17,
   "metadata": {},
   "outputs": [],
   "source": [
    "def generateD():\n",
    "    b = Building(20, 50)\n",
    "    b.passengers = collections.defaultdict(list)\n",
    "    b.generateBiasedPassenger(50)\n",
    "    \n",
    "    return b.passengers"
   ]
  },
  {
   "cell_type": "code",
   "execution_count": 18,
   "metadata": {},
   "outputs": [],
   "source": [
    "max_s = []\n",
    "greedy_s = []\n",
    "random_s = []\n",
    "\n",
    "for _ in range(1000):\n",
    "    test = generateD()\n",
    "    ele = Elevator(2)\n",
    "    max_s.append(ele.maximum(copy.deepcopy(test)))\n",
    "    random_s.append(ele.random(copy.deepcopy(test)))\n",
    "    greedy_s.append(ele.greedy(test))"
   ]
  },
  {
   "cell_type": "code",
   "execution_count": 19,
   "metadata": {},
   "outputs": [],
   "source": [
    "max_s = []\n",
    "greedy_s = []\n",
    "random_s = []\n",
    "\n",
    "for _ in range(1000):\n",
    "    test = generateD()\n",
    "    ele = Elevator(2)\n",
    "    max_s.append(ele.maximum(copy.deepcopy(test)))\n",
    "    random_s.append(ele.random(copy.deepcopy(test)))\n",
    "    greedy_s.append(ele.greedy(test))"
   ]
  },
  {
   "cell_type": "code",
   "execution_count": 20,
   "metadata": {},
   "outputs": [],
   "source": [
    "all_ele = []\n",
    "divided_ele = []\n",
    "\n",
    "def allEle(test):\n",
    "    ele = [MElevator(2) for _ in range(2)]\n",
    "    count = 0\n",
    "    \n",
    "    while test:\n",
    "        for i in ele:\n",
    "            i.load(test)\n",
    "        count += 1\n",
    "    \n",
    "    return count\n",
    "\n",
    "def dividedEle(test):\n",
    "    ele = [SpecElevator(2, (0, 10)), SpecElevator(2, (10, 20))]\n",
    "    count = 0\n",
    "    \n",
    "    while test:\n",
    "        for i in ele:\n",
    "            i.load(test)\n",
    "        count += 1\n",
    "    \n",
    "    return count\n",
    "\n",
    "for _ in range(1000):\n",
    "    test = generateD()\n",
    "    all_ele.append(allEle(copy.deepcopy(test)))\n",
    "    divided_ele.append(dividedEle(test))"
   ]
  },
  {
   "cell_type": "code",
   "execution_count": 21,
   "metadata": {},
   "outputs": [
    {
     "data": {
      "text/plain": [
       "<matplotlib.legend.Legend at 0x1a1ca824e0>"
      ]
     },
     "execution_count": 21,
     "metadata": {},
     "output_type": "execute_result"
    },
    {
     "data": {
      "image/png": "[encoded data removed]",
      "text/plain": [
       "<Figure size 432x288 with 1 Axes>"
      ]
     },
     "metadata": {
      "needs_background": "light"
     },
     "output_type": "display_data"
    }
   ],
   "source": [
    "\n",
    "sns.distplot(all_ele, label = \"all\")\n",
    "sns.distplot(divided_ele, label = \"divided\")\n",
    "plt.title('Time required to take all passengers using 1 or 2 lifts')\n",
    "plt.xlabel('Number of steps taken to complete the task')\n",
    "plt.ylabel('Frequency')\n",
    "plt.legend()"
   ]
  }
 ],
 "metadata": {
  "kernelspec": {
   "display_name": "Python 3",
   "language": "python",
   "name": "python3"
  },
  "language_info": {
   "codemirror_mode": {
    "name": "ipython",
    "version": 3
   },
   "file_extension": ".py",
   "mimetype": "text/x-python",
   "name": "python",
   "nbconvert_exporter": "python",
   "pygments_lexer": "ipython3",
   "version": "3.7.3"
  }
 },
 "nbformat": 4,
 "nbformat_minor": 2
}
