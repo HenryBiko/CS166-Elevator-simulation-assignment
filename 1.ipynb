import random
import collections
import bisect
import matplotlib.pyplot as plt
import copy
import seaborn as sns
#Generate class elevator; It contains the three algorithms we will compare to see which one yields the best results 

class Elevator:
    def __init__(self, capacity):
        self.cap = capacity
        self.floor = 0
        self.targets = []
        
    def maximum(self, pas):
        # initiation
        self.floor = 0
        count = 0
        # sort
        for i in pas:
            pas[i].sort()
        
        while pas:
            
            destination = max(list(pas.keys()), key=lambda x: len(pas[x]))
            count += abs(destination - self.floor)
            self.floor = destination
            
            while pas[destination] and len(self.targets) < self.cap:
                self.targets.append(pas[destination].pop())
                
            if not pas[destination]:
                pas.pop(destination, None)
            
            self.targets.sort(key = lambda x: abs(x - self.floor))
            for i in self.targets:
                count += abs(self.floor - i)
                self.floor = i
            
            self.targets = []
        
        return count
    
    
    def greedy(self, pas):
        
        #initialization
        self.floor = 0
        direction = 1
        count = 0
        
        while pas:
            
            '''
            print("Elevator is at %s floor. Direction: %s" % (self.floor, direction))
            print("Current passengers' destination %s" % self.targets)
            '''
            
            # remove passengers that have reached their target floor
            if self.floor in self.targets:
                self.targets = list(filter(lambda x: x != self.floor, self.targets))
            
            # add passengers on the same direction
            if direction == 1 and pas[self.floor]:
                while len(self.targets) < self.cap and pas[self.floor] and max(pas[self.floor]) > self.floor:
                    ind = pas[self.floor].index(max(pas[self.floor]))
                    self.targets.append(pas[self.floor].pop(ind))
            elif direction == -1 and pas[self.floor]:
                while len(self.targets) < self.cap and pas[self.floor] and min(pas[self.floor]) < self.floor:
                    ind = pas[self.floor].index(min(pas[self.floor]))
                    self.targets.append(pas[self.floor].pop(ind))
            
            #remove floors that have no more passengers
            if not pas[self.floor]:
                pas.pop(self.floor, None)
            
            if len(pas.keys()) > 0 and (self.targets or (direction == 1 and self.floor < max(pas.keys())) or (direction == -1 and self.floor > min(pas.keys()))):
                self.floor += direction
                count += 1
            else:
                direction = -direction
        
        return count
    
    def closest_floor(self, floor, other_floors):
        return sorted(other_floors, key = lambda x: abs(floor - x))[0]
    
    def random(self,pas):
        #initialization
        self.floor = 0
        count = 0
        loaded = 0
        
        #Run loop till no passengers left on all floor
        while len(list(pas.keys())) != 0:
            next_floor = self.closest_floor(self.floor, list(pas.keys()))
            count += abs(self.floor - next_floor)

            while loaded < self.cap and len(pas.get(next_floor)) != 0:
                loaded += 1                                            
                self.targets.append(pas.get(next_floor).pop(0))
                
            #Check if floor is empty, if it is then delete it
            if len(pas.get(next_floor)) == 0:
                del pas[next_floor]

            #choose random floor to go to   
            random_floor = random.choice(self.targets)
            count += abs(next_floor - random_floor)
            self.floor = random_floor
            for i in self.targets:
                if i == random_floor:
                    self.targets.remove(i)
                    loaded -= 1

        return count
				
